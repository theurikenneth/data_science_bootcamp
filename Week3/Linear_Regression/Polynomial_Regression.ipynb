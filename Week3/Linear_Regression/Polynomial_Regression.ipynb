{
  "nbformat": 4,
  "nbformat_minor": 0,
  "metadata": {
    "kernelspec": {
      "display_name": "Python 3",
      "language": "python",
      "name": "python3"
    },
    "language_info": {
      "codemirror_mode": {
        "name": "ipython",
        "version": 3
      },
      "file_extension": ".py",
      "mimetype": "text/x-python",
      "name": "python",
      "nbconvert_exporter": "python",
      "pygments_lexer": "ipython3",
      "version": "3.7.6"
    },
    "colab": {
      "name": "Polynomial_Regression.ipynb",
      "provenance": [],
      "include_colab_link": true
    }
  },
  "cells": [
    {
      "cell_type": "markdown",
      "metadata": {
        "id": "view-in-github",
        "colab_type": "text"
      },
      "source": [
        "<a href=\"https://colab.research.google.com/github/dphi-official/Data_Science_Bootcamp/blob/master/Week3/Linear_Regression/Polynomial_Regression.ipynb\" target=\"_parent\"><img src=\"https://colab.research.google.com/assets/colab-badge.svg\" alt=\"Open In Colab\"/></a>"
      ]
    },
    {
      "cell_type": "markdown",
      "metadata": {
        "id": "Y_TMdtjiPOT_",
        "colab_type": "text"
      },
      "source": [
        "# Polynomial Regression (Optional)"
      ]
    },
    {
      "cell_type": "markdown",
      "metadata": {
        "id": "NNOPS5sGPOUA",
        "colab_type": "text"
      },
      "source": [
        "**Machine learning** is a method used to iteratively learn from data without being explicitly programmed by humans. It is very useful when we want to find a pattern that lies within a large dataset.\n",
        "\n",
        "There are two types of machine learning problem, which are the **Regression** and **Classification** problem. In short, regression problem returns a value (example: the extimated price of a house), while classfication problem returns a category (exmaple: cat or dog).\n",
        "\n",
        "In this notebook, we will focus on **Linear Regression** using a library called `ScikitLearn`.\n",
        "\n",
        "This notebook is divided into 2 parts:\n",
        "1. Linear regression for a simple `y = mx + c` problem.\n",
        "2. Linear regression for polynomial."
      ]
    },
    {
      "cell_type": "markdown",
      "metadata": {
        "id": "Mjy2DnEcPOUB",
        "colab_type": "text"
      },
      "source": [
        "## Section 1: Linear Regression for y = mx + c"
      ]
    },
    {
      "cell_type": "code",
      "metadata": {
        "id": "8fTgB7KEPOUC",
        "colab_type": "code",
        "colab": {}
      },
      "source": [
        "# libraries for random number\n",
        "from random import seed\n",
        "from random import random\n",
        "\n",
        "# libraries for numerical\n",
        "import pandas as pd  \n",
        "import numpy as np \n",
        "import operator\n",
        "\n",
        "# libraries for visualization\n",
        "import matplotlib.pyplot as plt  \n",
        "import seaborn as sns\n",
        "\n",
        "# libraries for machine learning\n",
        "from sklearn.model_selection import train_test_split \n",
        "from sklearn.linear_model import LinearRegression\n",
        "from sklearn.metrics import mean_squared_error, r2_score\n",
        "from sklearn.preprocessing import PolynomialFeatures\n",
        "from sklearn import metrics\n",
        "\n",
        "# to plot the diagrams within the cells\n",
        "%matplotlib inline"
      ],
      "execution_count": null,
      "outputs": []
    },
    {
      "cell_type": "markdown",
      "metadata": {
        "id": "rw0vPnIEPOUG",
        "colab_type": "text"
      },
      "source": [
        "In the first part, we will examine a simple linear problem.\n",
        "In general, a linear equation can be expressed by:\n",
        "$$y = mx + c$$\n",
        "\n",
        "In the first part, we will create a model that can find out the coefficient `m` and intercept `c`.\n",
        "We will use the equation: $$y = 2x + 1$$ for this section.\n",
        "\n",
        "To add some complexity, let's create some noise to the function."
      ]
    },
    {
      "cell_type": "code",
      "metadata": {
        "id": "MyETmouPPOUG",
        "colab_type": "code",
        "colab": {},
        "outputId": "cb90134f-6cc1-4fc1-8acd-9c19268395fa"
      },
      "source": [
        "x = np.array([1, 2, 3, 4, 5, 6, 7, 8, 9, 10])\n",
        "noise = np.random.uniform(-1, 1, 10)\n",
        "y = np.array(2 * x + 1 + noise)\n",
        "print(\"x: \", x)\n",
        "print(\"y: \", y)"
      ],
      "execution_count": null,
      "outputs": [
        {
          "output_type": "stream",
          "text": [
            "x:  [ 1  2  3  4  5  6  7  8  9 10]\n",
            "y:  [ 3.23648193  4.88700386  6.15978393  9.84232031 10.85925204 13.17421082\n",
            " 15.79633765 16.85860429 18.75339959 20.29392718]\n"
          ],
          "name": "stdout"
        }
      ]
    },
    {
      "cell_type": "code",
      "metadata": {
        "id": "FUhBwCgkPOUJ",
        "colab_type": "code",
        "colab": {},
        "outputId": "9f04b9eb-3f52-4c06-c94f-4c2a12d2eef2"
      },
      "source": [
        "df = pd.DataFrame({'x': x, 'y': y})\n",
        "df"
      ],
      "execution_count": null,
      "outputs": [
        {
          "output_type": "execute_result",
          "data": {
            "text/html": [
              "<div>\n",
              "<style scoped>\n",
              "    .dataframe tbody tr th:only-of-type {\n",
              "        vertical-align: middle;\n",
              "    }\n",
              "\n",
              "    .dataframe tbody tr th {\n",
              "        vertical-align: top;\n",
              "    }\n",
              "\n",
              "    .dataframe thead th {\n",
              "        text-align: right;\n",
              "    }\n",
              "</style>\n",
              "<table border=\"1\" class=\"dataframe\">\n",
              "  <thead>\n",
              "    <tr style=\"text-align: right;\">\n",
              "      <th></th>\n",
              "      <th>x</th>\n",
              "      <th>y</th>\n",
              "    </tr>\n",
              "  </thead>\n",
              "  <tbody>\n",
              "    <tr>\n",
              "      <th>0</th>\n",
              "      <td>1</td>\n",
              "      <td>3.236482</td>\n",
              "    </tr>\n",
              "    <tr>\n",
              "      <th>1</th>\n",
              "      <td>2</td>\n",
              "      <td>4.887004</td>\n",
              "    </tr>\n",
              "    <tr>\n",
              "      <th>2</th>\n",
              "      <td>3</td>\n",
              "      <td>6.159784</td>\n",
              "    </tr>\n",
              "    <tr>\n",
              "      <th>3</th>\n",
              "      <td>4</td>\n",
              "      <td>9.842320</td>\n",
              "    </tr>\n",
              "    <tr>\n",
              "      <th>4</th>\n",
              "      <td>5</td>\n",
              "      <td>10.859252</td>\n",
              "    </tr>\n",
              "    <tr>\n",
              "      <th>5</th>\n",
              "      <td>6</td>\n",
              "      <td>13.174211</td>\n",
              "    </tr>\n",
              "    <tr>\n",
              "      <th>6</th>\n",
              "      <td>7</td>\n",
              "      <td>15.796338</td>\n",
              "    </tr>\n",
              "    <tr>\n",
              "      <th>7</th>\n",
              "      <td>8</td>\n",
              "      <td>16.858604</td>\n",
              "    </tr>\n",
              "    <tr>\n",
              "      <th>8</th>\n",
              "      <td>9</td>\n",
              "      <td>18.753400</td>\n",
              "    </tr>\n",
              "    <tr>\n",
              "      <th>9</th>\n",
              "      <td>10</td>\n",
              "      <td>20.293927</td>\n",
              "    </tr>\n",
              "  </tbody>\n",
              "</table>\n",
              "</div>"
            ],
            "text/plain": [
              "    x          y\n",
              "0   1   3.236482\n",
              "1   2   4.887004\n",
              "2   3   6.159784\n",
              "3   4   9.842320\n",
              "4   5  10.859252\n",
              "5   6  13.174211\n",
              "6   7  15.796338\n",
              "7   8  16.858604\n",
              "8   9  18.753400\n",
              "9  10  20.293927"
            ]
          },
          "metadata": {
            "tags": []
          },
          "execution_count": 3
        }
      ]
    },
    {
      "cell_type": "code",
      "metadata": {
        "id": "PP19uiuKPOUL",
        "colab_type": "code",
        "colab": {},
        "outputId": "0bc783bf-553b-4551-903c-1b5caab5f3e3"
      },
      "source": [
        "plt.scatter(x, y)\n",
        "plt.plot(x, 2 * x + 1)\n",
        "plt.title('X vs Y')\n",
        "plt.xlabel('Input, X')\n",
        "plt.ylabel('Output, Y')\n",
        "plt.show()"
      ],
      "execution_count": null,
      "outputs": [
        {
          "output_type": "display_data",
          "data": {
            "image/png": "[encoded data removed]",
            "text/plain": [
              "<Figure size 432x288 with 1 Axes>"
            ]
          },
          "metadata": {
            "tags": [],
            "needs_background": "light"
          }
        }
      ]
    },
    {
      "cell_type": "markdown",
      "metadata": {
        "id": "kTiq-zhZPOUN",
        "colab_type": "text"
      },
      "source": [
        "Now, we want to create a model that can map the input to the output. `ScikitLearn` library provide us the simplicity to do it by using `LinearRegression()`. The `.fit` function maps the input to the output and find the coefficient and intercept. Do note that we need to reshape the input. The (-1, 1) tells Python that we want the shape to be 1 column, the `-1` is asking the python to figure out what to put in it. In our case, we want to reshape a (1, 10) to (10, 1), so the -1 will be replaced by 10."
      ]
    },
    {
      "cell_type": "code",
      "metadata": {
        "id": "bo9AlLTgPOUO",
        "colab_type": "code",
        "colab": {},
        "outputId": "888468e1-c67b-4754-95a8-d7a6336828ce"
      },
      "source": [
        "model = LinearRegression()\n",
        "model.fit(x.reshape(-1, 1), y.reshape(-1, 1))\n",
        "print(x.reshape(-1, 1).shape)"
      ],
      "execution_count": null,
      "outputs": [
        {
          "output_type": "stream",
          "text": [
            "(10, 1)\n"
          ],
          "name": "stdout"
        }
      ]
    },
    {
      "cell_type": "markdown",
      "metadata": {
        "id": "QLdNXHKnPOUQ",
        "colab_type": "text"
      },
      "source": [
        "We can obtain the coefficient `m` by using the `.coef_` property."
      ]
    },
    {
      "cell_type": "code",
      "metadata": {
        "scrolled": true,
        "id": "Scqd9IioPOUR",
        "colab_type": "code",
        "colab": {},
        "outputId": "95c21883-30dd-44ec-8181-c33d32654960"
      },
      "source": [
        "print(model.coef_)"
      ],
      "execution_count": null,
      "outputs": [
        {
          "output_type": "stream",
          "text": [
            "[[1.96516903]]\n"
          ],
          "name": "stdout"
        }
      ]
    },
    {
      "cell_type": "markdown",
      "metadata": {
        "id": "hGb7Wk-jPOUT",
        "colab_type": "text"
      },
      "source": [
        "We can obtain the intercept `c` by using the `.intercept_` property."
      ]
    },
    {
      "cell_type": "code",
      "metadata": {
        "id": "krYPmVGWPOUU",
        "colab_type": "code",
        "colab": {},
        "outputId": "bf85e5ce-2129-4b85-dbb2-d576236fa8fc"
      },
      "source": [
        "print(model.intercept_)"
      ],
      "execution_count": null,
      "outputs": [
        {
          "output_type": "stream",
          "text": [
            "[1.17770249]\n"
          ],
          "name": "stdout"
        }
      ]
    },
    {
      "cell_type": "markdown",
      "metadata": {
        "id": "FT_3KhTNPOUW",
        "colab_type": "text"
      },
      "source": [
        "Now let's use some data that the model never seen before to test our model. The `.predict()` method will allow us to predict the output using the model that we built just now."
      ]
    },
    {
      "cell_type": "code",
      "metadata": {
        "id": "V3cFeEBePOUW",
        "colab_type": "code",
        "colab": {},
        "outputId": "ed6a1f08-8c04-4432-d208-7db9056e6172"
      },
      "source": [
        "x_test = np.array([11, 12, 13, 14, 15])\n",
        "y_test = np.array([23, 25, 27, 29, 31])\n",
        "y_pred = model.predict(x_test.reshape(-1, 1))\n",
        "print(y_pred)"
      ],
      "execution_count": null,
      "outputs": [
        {
          "output_type": "stream",
          "text": [
            "[[22.79456183]\n",
            " [24.75973086]\n",
            " [26.72489989]\n",
            " [28.69006892]\n",
            " [30.65523795]]\n"
          ],
          "name": "stdout"
        }
      ]
    },
    {
      "cell_type": "markdown",
      "metadata": {
        "id": "8NMAzm3APOUY",
        "colab_type": "text"
      },
      "source": [
        "The results are not as accurate as the expected result (y_test). This means there is an error. We can calculate the error by three method:\n",
        "1. Mean Absolute Error (MAE)\n",
        "2. Mean Squared Error (MSE)\n",
        "3. Root Mean Squared Error (RMSE)\n",
        "\n",
        "Thankfully, `ScikitLearn` library provide us the built-in function to do that, which we have imported in the import section."
      ]
    },
    {
      "cell_type": "code",
      "metadata": {
        "id": "oOW4dE6zPOUZ",
        "colab_type": "code",
        "colab": {},
        "outputId": "d158fe3d-c372-4dec-9d18-a757b03a126f"
      },
      "source": [
        "print('Mean Absolute Error:', metrics.mean_absolute_error(y_test, y_pred))\n",
        "print('Mean Squared Error:', metrics.mean_squared_error(y_test, y_pred))\n",
        "print('Root Mean Squared Error:', np.sqrt(metrics.mean_squared_error(y_test, y_pred)))"
      ],
      "execution_count": null,
      "outputs": [
        {
          "output_type": "stream",
          "text": [
            "Mean Absolute Error: 0.275100111723426\n",
            "Mean Squared Error: 0.07810646434751681\n",
            "Root Mean Squared Error: 0.27947533763736077\n"
          ],
          "name": "stdout"
        }
      ]
    },
    {
      "cell_type": "markdown",
      "metadata": {
        "id": "2SgV_QSsPOUb",
        "colab_type": "text"
      },
      "source": [
        "Now let us visualize the predicted output and the actual output."
      ]
    },
    {
      "cell_type": "code",
      "metadata": {
        "id": "sdzH-_gdPOUb",
        "colab_type": "code",
        "colab": {},
        "outputId": "40efb356-a677-43ef-8294-ee8d9121de68"
      },
      "source": [
        "plt.scatter(y_test, y_pred)\n",
        "plt.xlabel(\"Y Actual\")\n",
        "plt.ylabel(\"Y Predicted\")\n",
        "plt.title(\"Actual Y vs Predicted Y\")"
      ],
      "execution_count": null,
      "outputs": [
        {
          "output_type": "execute_result",
          "data": {
            "text/plain": [
              "Text(0.5, 1.0, 'Actual Y vs Predicted Y')"
            ]
          },
          "metadata": {
            "tags": []
          },
          "execution_count": 10
        },
        {
          "output_type": "display_data",
          "data": {
            "image/png": "[encoded data removed]",
            "text/plain": [
              "<Figure size 432x288 with 1 Axes>"
            ]
          },
          "metadata": {
            "tags": [],
            "needs_background": "light"
          }
        }
      ]
    },
    {
      "cell_type": "markdown",
      "metadata": {
        "id": "QKd8ufZ0POUe",
        "colab_type": "text"
      },
      "source": [
        "## Section 2: Polynomial Problem\n",
        "A polynomial can be expressed generally by:\n",
        "$$y = m_nx^n + m_{n-1}x^{n-1} + + m_{n-2}x^{n-2} + ... + m_{2}x^{2} + m_1x + c$$\n",
        "Similar to the previous section, we have coefficient of $$m_n, m_{n-1}, ..., m_1$$ and an intercept `c`.\n",
        "\n",
        "In this section, we will use the function: $$y = 0.5x^3-2x^2 + x $$\n",
        "\n",
        "This time, we will also randomize the x so that the data can be generated randomly."
      ]
    },
    {
      "cell_type": "code",
      "metadata": {
        "id": "I4_O8V70POUe",
        "colab_type": "code",
        "colab": {},
        "outputId": "e718b911-6640-46d3-c7bc-1fc144025a1e"
      },
      "source": [
        "np.random.seed(0)\n",
        "x2 = 3 * np.random.normal(0, 1, 20)\n",
        "y2 = 0.5 * (x2 ** 3) - 2 * (x2 ** 2) + x2 + np.random.normal(-3, 3, 20)\n",
        "plt.scatter(x2, y2, s = 10) # s = 10 makes the market smaller\n",
        "plt.show()"
      ],
      "execution_count": null,
      "outputs": [
        {
          "output_type": "display_data",
          "data": {
            "image/png": "[encoded data removed]",
            "text/plain": [
              "<Figure size 432x288 with 1 Axes>"
            ]
          },
          "metadata": {
            "tags": [],
            "needs_background": "light"
          }
        }
      ]
    },
    {
      "cell_type": "markdown",
      "metadata": {
        "id": "fzxxgXCsPOUh",
        "colab_type": "text"
      },
      "source": [
        "We would like to create a model that can run for different degree. So we define a funtion that create a model by taking a parameter `degree`. In this piece of code, you will see that the x and y function are redefined. This is because the data type of x will change when we sort the x values before plotting."
      ]
    },
    {
      "cell_type": "code",
      "metadata": {
        "id": "eN-0NRLYPOUh",
        "colab_type": "code",
        "colab": {}
      },
      "source": [
        "def polynomial_model(degree):\n",
        "    np.random.seed(0)\n",
        "    x2 = 3 * np.random.normal(0, 1, 20)\n",
        "    y2 = x2 - 2 * (x2 ** 2) + 0.5 * (x2 ** 3) + np.random.normal(-3, 3, 20)\n",
        "    x2 = x2[:, np.newaxis]\n",
        "    y2 = y2[:, np.newaxis]\n",
        "    polynomial_features= PolynomialFeatures(degree = degree)\n",
        "    x_poly = polynomial_features.fit_transform(x2)\n",
        "    model = LinearRegression()\n",
        "    model.fit(x_poly, y2)\n",
        "    y_poly_pred = model.predict(x_poly)\n",
        "    \n",
        "    # Finding the RMSE and R2 score\n",
        "    rmse = np.sqrt(mean_squared_error(y2,y_poly_pred))\n",
        "    r2 = r2_score(y2,y_poly_pred)\n",
        "    print(\"RMSE: \", rmse)\n",
        "    print(\"R2: \", r2)\n",
        "    \n",
        "    plt.figure(figsize = (8, 6))\n",
        "    plt.scatter(x2, y2, s = 10)\n",
        "    \n",
        "    # Sort the values of x before line plot\n",
        "    sorted_zip = sorted(zip(x2, y_poly_pred))\n",
        "    x2, y_poly_pred = zip(*sorted_zip) # Zip(*) means unpack a zip, make every argument a single element\n",
        "    plt.plot(x2, y_poly_pred, color='m')\n",
        "    plt.show()\n",
        "    \n",
        "    return (rmse, r2, np.asarray(y_poly_pred))"
      ],
      "execution_count": null,
      "outputs": []
    },
    {
      "cell_type": "markdown",
      "metadata": {
        "id": "o8JVlDaCPOUk",
        "colab_type": "text"
      },
      "source": [
        "If you wonder what the `[:, n.newaxis]` does:\n",
        "\n",
        "![title](https://i.stack.imgur.com/zkMBy.png)"
      ]
    },
    {
      "cell_type": "code",
      "metadata": {
        "id": "Z1YjWRjnPOUk",
        "colab_type": "code",
        "colab": {},
        "outputId": "192b9c24-a25a-4a84-d808-411aa3211f5e"
      },
      "source": [
        "rmse_return, r2_return, y_poly_pred_return = polynomial_model(1)\n",
        "\n",
        "# Creating array and list to store the data for each degree\n",
        "rmse = np.array([1.0, 2.0, 3.0, 15.0])\n",
        "r2 = np.array([1.0, 2.0, 3.0, 15.0])\n",
        "y_poly_pred = []\n",
        "\n",
        "# Append the data into the array and list\n",
        "rmse[0] = rmse_return\n",
        "r2[0] = r2_return\n",
        "y_poly_pred.append(y_poly_pred_return)"
      ],
      "execution_count": null,
      "outputs": [
        {
          "output_type": "stream",
          "text": [
            "RMSE:  10.810057845605048\n",
            "R2:  0.7114299715230077\n"
          ],
          "name": "stdout"
        },
        {
          "output_type": "display_data",
          "data": {
            "image/png": "[encoded data removed]",
            "text/plain": [
              "<Figure size 576x432 with 1 Axes>"
            ]
          },
          "metadata": {
            "tags": [],
            "needs_background": "light"
          }
        }
      ]
    },
    {
      "cell_type": "code",
      "metadata": {
        "id": "YtqZOt_DPOUm",
        "colab_type": "code",
        "colab": {},
        "outputId": "185dd08d-e4d8-46bc-8db3-871a6c796211"
      },
      "source": [
        "rmse_return, r2_return, y_poly_pred_return = polynomial_model(2)\n",
        "\n",
        "rmse[1] = rmse_return\n",
        "r2[1] = r2_return\n",
        "y_poly_pred.append(y_poly_pred_return)"
      ],
      "execution_count": null,
      "outputs": [
        {
          "output_type": "stream",
          "text": [
            "RMSE:  10.360813483914935\n",
            "R2:  0.7349163769925623\n"
          ],
          "name": "stdout"
        },
        {
          "output_type": "display_data",
          "data": {
            "image/png": "[encoded data removed]",
            "text/plain": [
              "<Figure size 576x432 with 1 Axes>"
            ]
          },
          "metadata": {
            "tags": [],
            "needs_background": "light"
          }
        }
      ]
    },
    {
      "cell_type": "code",
      "metadata": {
        "id": "J4zDGeR0POUo",
        "colab_type": "code",
        "colab": {},
        "outputId": "373befae-b3f2-4ef3-ade6-d879be4df06f"
      },
      "source": [
        "rmse_return, r2_return, y_poly_pred_return = polynomial_model(3)\n",
        "\n",
        "rmse[2] = rmse_return\n",
        "r2[2] = r2_return\n",
        "y_poly_pred.append(y_poly_pred_return)"
      ],
      "execution_count": null,
      "outputs": [
        {
          "output_type": "stream",
          "text": [
            "RMSE:  3.4498955074087267\n",
            "R2:  0.9706094936257561\n"
          ],
          "name": "stdout"
        },
        {
          "output_type": "display_data",
          "data": {
            "image/png": "[encoded data removed]",
            "text/plain": [
              "<Figure size 576x432 with 1 Axes>"
            ]
          },
          "metadata": {
            "tags": [],
            "needs_background": "light"
          }
        }
      ]
    },
    {
      "cell_type": "code",
      "metadata": {
        "id": "fElqBRZ4POUr",
        "colab_type": "code",
        "colab": {},
        "outputId": "8aef1ffb-4323-4da1-f094-9bf6ed3673d0"
      },
      "source": [
        "rmse_return, r2_return, y_poly_pred_return = polynomial_model(15)\n",
        "\n",
        "rmse[3] = rmse_return\n",
        "r2[3] = r2_return\n",
        "y_poly_pred.append(y_poly_pred_return)\n",
        "y_poly_pred = np.asarray(y_poly_pred)"
      ],
      "execution_count": null,
      "outputs": [
        {
          "output_type": "stream",
          "text": [
            "RMSE:  1.433940164595766\n",
            "R2:  0.9949224144957173\n"
          ],
          "name": "stdout"
        },
        {
          "output_type": "display_data",
          "data": {
            "image/png": "[encoded data removed]",
            "text/plain": [
              "<Figure size 576x432 with 1 Axes>"
            ]
          },
          "metadata": {
            "tags": [],
            "needs_background": "light"
          }
        }
      ]
    },
    {
      "cell_type": "markdown",
      "metadata": {
        "id": "RvGqiYbBPOUt",
        "colab_type": "text"
      },
      "source": [
        "We can see that the R2 score is getting higher and higher! And eventually, the R2 score is 0.99 for degree of 15! **However, this is not the best model!** When the degree goes to 15, the model starts to consider the noise. This means taht the model has started to \"memorize\" each data instead of getting a general pattern of the data. This scenario is when we called a *overfitting*. We want the model to learn the general pattern but not got into deep about all of the noise. Therefore, the most appropriate degree to use in this case is 3, which is same as our predefined polynomial!\n",
        "\n",
        "After we examine the result of different degree, we can plot the chart together. We can remove the degree = 15 since we know that it is overfitted."
      ]
    },
    {
      "cell_type": "code",
      "metadata": {
        "scrolled": true,
        "id": "wlA1RNsNPOUt",
        "colab_type": "code",
        "colab": {},
        "outputId": "2655361e-3cdb-49a4-f0ca-6e58cf8837ea"
      },
      "source": [
        "np.random.seed(0)\n",
        "x2 = 3 * np.random.normal(0, 1, 20)\n",
        "y2 = x2 - 2 * (x2 ** 2) + 0.5 * (x2 ** 3) + np.random.normal(-3, 3, 20)\n",
        "plt.scatter(x2, y2)\n",
        "plt.plot(sorted(x2), sorted(y_poly_pred[0]))\n",
        "plt.plot(sorted(x2), sorted(y_poly_pred[1]))\n",
        "plt.plot(sorted(x2), sorted(y_poly_pred[2]))\n",
        "plt.show()"
      ],
      "execution_count": null,
      "outputs": [
        {
          "output_type": "display_data",
          "data": {
            "image/png": "[encoded data removed]",
            "text/plain": [
              "<Figure size 432x288 with 1 Axes>"
            ]
          },
          "metadata": {
            "tags": [],
            "needs_background": "light"
          }
        }
      ]
    },
    {
      "cell_type": "markdown",
      "metadata": {
        "id": "1UN45AOsPOUv",
        "colab_type": "text"
      },
      "source": [
        "Now lets plot the R2 vs degree chart."
      ]
    },
    {
      "cell_type": "code",
      "metadata": {
        "id": "fEa8TjpAPOUv",
        "colab_type": "code",
        "colab": {},
        "outputId": "1f1433c4-8c61-4cf7-e3ec-fa55a58dca34"
      },
      "source": [
        "plt.plot(np.array([1, 2, 3, 15]), r2)\n",
        "plt.xlabel(\"Degree of Polynomial\")\n",
        "plt.ylabel(\"R2 Score\")\n",
        "plt.show()"
      ],
      "execution_count": null,
      "outputs": [
        {
          "output_type": "display_data",
          "data": {
            "image/png": "[encoded data removed]",
            "text/plain": [
              "<Figure size 432x288 with 1 Axes>"
            ]
          },
          "metadata": {
            "tags": [],
            "needs_background": "light"
          }
        }
      ]
    },
    {
      "cell_type": "markdown",
      "metadata": {
        "id": "AeF61TT0POUx",
        "colab_type": "text"
      },
      "source": [
        "# Conclusion\n",
        "We have covered from a simple `y = mx + c` linear regression to polynomial linear regression! This sums up the topic of polynomial regression. To learn more about ScikitLearn, you can visit the [ScikitLearn Official Documentation](https://scikit-learn.org/stable/).\n",
        "\n",
        "# Things to Remember\n",
        "Data Science is not all about Python and all the fantastic libraries. It is about how you gain valueable insights or knowledge from the data to assist you or your organization in making better decision! Python is just one of the tools to achieve that!"
      ]
    },
    {
      "cell_type": "markdown",
      "metadata": {
        "id": "WhXd7oOJPOUy",
        "colab_type": "text"
      },
      "source": [
        "# What's Next\n",
        "Now, you have seen how to perform machine learning using `ScikitLearn`. Next, you can try to apply what you learn on different datasets! Here are some awesome [datasets](https://scikit-learn.org/stable/datasets/index.html) you can use to try it out! \n",
        "\n",
        "This dataset are from `ScikitLearn` itself, do try it out for the boston and diabetes dataset!\n",
        "\n",
        "Also, you can explore more tools and libraries like PyTorch and TensorFlow in the future! But that is another whole new story!\n",
        "\n",
        "Good luck and all the best!"
      ]
    },
    {
      "cell_type": "code",
      "metadata": {
        "id": "FkYB-GF3POUy",
        "colab_type": "code",
        "colab": {}
      },
      "source": [
        ""
      ],
      "execution_count": null,
      "outputs": []
    }
  ]
}