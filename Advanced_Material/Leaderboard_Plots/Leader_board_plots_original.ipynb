{
  "nbformat": 4,
  "nbformat_minor": 0,
  "metadata": {
    "colab": {
      "name": "Leader_board_plots_original.ipynb",
      "provenance": [],
      "collapsed_sections": [],
      "include_colab_link": true
    },
    "kernelspec": {
      "name": "python3",
      "display_name": "Python 3"
    }
  },
  "cells": [
    {
      "cell_type": "markdown",
      "metadata": {
        "id": "view-in-github",
        "colab_type": "text"
      },
      "source": [
        "<a href=\"https://colab.research.google.com/github/dphi-official/Data_Science_Bootcamp/blob/master/Advanced_Material/Leaderboard_Plots/Leader_board_plots_original.ipynb\" target=\"_parent\"><img src=\"https://colab.research.google.com/assets/colab-badge.svg\" alt=\"Open In Colab\"/></a>"
      ]
    },
    {
      "cell_type": "markdown",
      "metadata": {
        "id": "8XJiY6ufgtJM"
      },
      "source": [
        "---\n",
        "# Leader Board Plots\n",
        "---"
      ]
    },
    {
      "cell_type": "markdown",
      "metadata": {
        "id": "uyWdhusRZFI-"
      },
      "source": [
        "Hey there. If you are curious how I made the two leaderboard plots that were shown in todays session, this short notebook is for you!"
      ]
    },
    {
      "cell_type": "markdown",
      "metadata": {
        "id": "uccXUKzNYGOQ"
      },
      "source": [
        "---\n",
        "## Import Modules\n",
        "---"
      ]
    },
    {
      "cell_type": "markdown",
      "metadata": {
        "id": "2uA-EKbKY_tI"
      },
      "source": [
        "First, we import the needed modules."
      ]
    },
    {
      "cell_type": "code",
      "metadata": {
        "id": "HXQLDkDxWOmf"
      },
      "source": [
        "%matplotlib inline\n",
        "import pandas as pd\n",
        "import numpy as np\n",
        "import matplotlib.pyplot as plt\n",
        "import seaborn as sns"
      ],
      "execution_count": null,
      "outputs": []
    },
    {
      "cell_type": "markdown",
      "metadata": {
        "id": "89LVP4gPYMf9"
      },
      "source": [
        "---\n",
        "## Import Data\n",
        "---"
      ]
    },
    {
      "cell_type": "markdown",
      "metadata": {
        "id": "8xjEVaMQZUwO"
      },
      "source": [
        "Next, we import the data using pandas. For Excel data, it is important to select which sheet you want to work with.\n",
        "\n",
        "Looking at the data types, it is visible that all columns were imported as \"object\", what we might want to change later."
      ]
    },
    {
      "cell_type": "code",
      "metadata": {
        "id": "seSUqfb5Wa-P",
        "colab": {
          "base_uri": "https://localhost:8080/",
          "height": 323
        },
        "outputId": "ee35e22b-6898-4067-81df-d98f480ef0d9"
      },
      "source": [
        "# week 0 (and 1 quiz from week 1)\n",
        "df = pd.read_excel(\"dphi_leaderboard_1.xlsx\", sheet_name=0)\n",
        "df.info()"
      ],
      "execution_count": null,
      "outputs": [
        {
          "output_type": "stream",
          "text": [
            "<class 'pandas.core.frame.DataFrame'>\n",
            "RangeIndex: 635 entries, 0 to 634\n",
            "Data columns (total 11 columns):\n",
            " #   Column                              Non-Null Count  Dtype \n",
            "---  ------                              --------------  ----- \n",
            " 0   First name                          635 non-null    object\n",
            " 1   Quiz: Week #0 - Day#0 Quiz (Real)   635 non-null    object\n",
            " 2   Quiz: Week #0 - Day#1 Quiz (Real)   635 non-null    object\n",
            " 3   Quiz: Week #0 - Day#2 Quiz (Real)   635 non-null    object\n",
            " 4   Quiz: Week#0 - Day#3 - Quiz (Real)  635 non-null    object\n",
            " 5   Quiz: Week #0 - Day#4 Quiz (Real)   635 non-null    object\n",
            " 6   Quiz: Week #0 - Day#5 Quiz (Real)   635 non-null    object\n",
            " 7   Quiz: Week #1 - Day#1 Quiz (Real)   635 non-null    object\n",
            " 8   Course total (Real)                 635 non-null    object\n",
            " 9   Coach                               635 non-null    object\n",
            " 10  Group ID                            635 non-null    object\n",
            "dtypes: object(11)\n",
            "memory usage: 54.7+ KB\n"
          ],
          "name": "stdout"
        }
      ]
    },
    {
      "cell_type": "code",
      "metadata": {
        "id": "I62uSciwadTE",
        "colab": {
          "base_uri": "https://localhost:8080/",
          "height": 323
        },
        "outputId": "96ec46d2-c945-44b7-84ea-2eadefee8e41"
      },
      "source": [
        "df.head()"
      ],
      "execution_count": null,
      "outputs": [
        {
          "output_type": "execute_result",
          "data": {
            "text/html": [
              "<div>\n",
              "<style scoped>\n",
              "    .dataframe tbody tr th:only-of-type {\n",
              "        vertical-align: middle;\n",
              "    }\n",
              "\n",
              "    .dataframe tbody tr th {\n",
              "        vertical-align: top;\n",
              "    }\n",
              "\n",
              "    .dataframe thead th {\n",
              "        text-align: right;\n",
              "    }\n",
              "</style>\n",
              "<table border=\"1\" class=\"dataframe\">\n",
              "  <thead>\n",
              "    <tr style=\"text-align: right;\">\n",
              "      <th></th>\n",
              "      <th>First name</th>\n",
              "      <th>Quiz: Week #0 - Day#0 Quiz (Real)</th>\n",
              "      <th>Quiz: Week #0 - Day#1 Quiz (Real)</th>\n",
              "      <th>Quiz: Week #0 - Day#2 Quiz (Real)</th>\n",
              "      <th>Quiz: Week#0 - Day#3 - Quiz (Real)</th>\n",
              "      <th>Quiz: Week #0 - Day#4 Quiz (Real)</th>\n",
              "      <th>Quiz: Week #0 - Day#5 Quiz (Real)</th>\n",
              "      <th>Quiz: Week #1 - Day#1 Quiz (Real)</th>\n",
              "      <th>Course total (Real)</th>\n",
              "      <th>Coach</th>\n",
              "      <th>Group ID</th>\n",
              "    </tr>\n",
              "  </thead>\n",
              "  <tbody>\n",
              "    <tr>\n",
              "      <th>0</th>\n",
              "      <td>Ahamed</td>\n",
              "      <td>10</td>\n",
              "      <td>10</td>\n",
              "      <td>8</td>\n",
              "      <td>9</td>\n",
              "      <td>10</td>\n",
              "      <td>10</td>\n",
              "      <td>10</td>\n",
              "      <td>67</td>\n",
              "      <td>Manish Kumar Chaudhary</td>\n",
              "      <td>AB_G1</td>\n",
              "    </tr>\n",
              "    <tr>\n",
              "      <th>1</th>\n",
              "      <td>Toshi</td>\n",
              "      <td>10</td>\n",
              "      <td>10</td>\n",
              "      <td>10</td>\n",
              "      <td>9</td>\n",
              "      <td>10</td>\n",
              "      <td>9.09</td>\n",
              "      <td>-</td>\n",
              "      <td>58.09</td>\n",
              "      <td>Manish Kumar Chaudhary</td>\n",
              "      <td>AB_G1</td>\n",
              "    </tr>\n",
              "    <tr>\n",
              "      <th>2</th>\n",
              "      <td>Abhishek</td>\n",
              "      <td>-</td>\n",
              "      <td>-</td>\n",
              "      <td>-</td>\n",
              "      <td>-</td>\n",
              "      <td>-</td>\n",
              "      <td>-</td>\n",
              "      <td>-</td>\n",
              "      <td>-</td>\n",
              "      <td>Manish Kumar Chaudhary</td>\n",
              "      <td>AB_G1</td>\n",
              "    </tr>\n",
              "    <tr>\n",
              "      <th>3</th>\n",
              "      <td>Abinaya</td>\n",
              "      <td>-</td>\n",
              "      <td>-</td>\n",
              "      <td>-</td>\n",
              "      <td>-</td>\n",
              "      <td>-</td>\n",
              "      <td>-</td>\n",
              "      <td>-</td>\n",
              "      <td>-</td>\n",
              "      <td>Manish Kumar Chaudhary</td>\n",
              "      <td>AB_G1</td>\n",
              "    </tr>\n",
              "    <tr>\n",
              "      <th>4</th>\n",
              "      <td>Akhil  Reddy</td>\n",
              "      <td>10</td>\n",
              "      <td>10</td>\n",
              "      <td>9</td>\n",
              "      <td>9</td>\n",
              "      <td>10</td>\n",
              "      <td>8.18</td>\n",
              "      <td>10</td>\n",
              "      <td>66.18</td>\n",
              "      <td>Manish Kumar Chaudhary</td>\n",
              "      <td>AB_G1</td>\n",
              "    </tr>\n",
              "  </tbody>\n",
              "</table>\n",
              "</div>"
            ],
            "text/plain": [
              "     First name  ... Group ID\n",
              "0        Ahamed  ...    AB_G1\n",
              "1         Toshi  ...    AB_G1\n",
              "2      Abhishek  ...    AB_G1\n",
              "3       Abinaya  ...    AB_G1\n",
              "4  Akhil  Reddy  ...    AB_G1\n",
              "\n",
              "[5 rows x 11 columns]"
            ]
          },
          "metadata": {
            "tags": []
          },
          "execution_count": 41
        }
      ]
    },
    {
      "cell_type": "markdown",
      "metadata": {
        "id": "XjYLRuFyYOuA"
      },
      "source": [
        "---\n",
        "## Transform Data\n",
        "---"
      ]
    },
    {
      "cell_type": "markdown",
      "metadata": {
        "id": "CaM2SLBfZrfE"
      },
      "source": [
        "Because the original column names are very long and contain spaces, we replace them with shorter ones. You can just create a list and assign it to the \"columns\" attribute of the data frame. \n",
        "\n",
        "An alternative would be to use a dictionary and the df.rename() method. This is especially handy if you only want to rename a subset of the columns, so keep that in mind!"
      ]
    },
    {
      "cell_type": "code",
      "metadata": {
        "id": "gl8FXQ8YWxmj"
      },
      "source": [
        "# change column names\n",
        "col_names = [\"name\", \"week_0_quiz_0\", \"week_0_quiz_1\", \"week_0_quiz_2\",\n",
        "             \"week_0_quiz_3\", \"week_0_quiz_4\", \"week_0_quiz_5\", \"week_1_quiz_1\",\n",
        "             \"total\", \"coach\", \"id\"]\n",
        "df.columns = col_names"
      ],
      "execution_count": null,
      "outputs": []
    },
    {
      "cell_type": "markdown",
      "metadata": {
        "id": "WkfjLdmkaVrl"
      },
      "source": [
        "Because we only want the leader board for one group, we subset the data."
      ]
    },
    {
      "cell_type": "code",
      "metadata": {
        "id": "vByozZATWzQw"
      },
      "source": [
        "# filter for ab_g13\n",
        "df = df[df.id == \"AB_G13\"]"
      ],
      "execution_count": null,
      "outputs": []
    },
    {
      "cell_type": "code",
      "metadata": {
        "id": "7EMXVDmCai6p",
        "colab": {
          "base_uri": "https://localhost:8080/",
          "height": 204
        },
        "outputId": "a7504974-564d-4085-fc44-244af9f8cdfd"
      },
      "source": [
        "df.head()"
      ],
      "execution_count": null,
      "outputs": [
        {
          "output_type": "execute_result",
          "data": {
            "text/html": [
              "<div>\n",
              "<style scoped>\n",
              "    .dataframe tbody tr th:only-of-type {\n",
              "        vertical-align: middle;\n",
              "    }\n",
              "\n",
              "    .dataframe tbody tr th {\n",
              "        vertical-align: top;\n",
              "    }\n",
              "\n",
              "    .dataframe thead th {\n",
              "        text-align: right;\n",
              "    }\n",
              "</style>\n",
              "<table border=\"1\" class=\"dataframe\">\n",
              "  <thead>\n",
              "    <tr style=\"text-align: right;\">\n",
              "      <th></th>\n",
              "      <th>name</th>\n",
              "      <th>week_0_quiz_0</th>\n",
              "      <th>week_0_quiz_1</th>\n",
              "      <th>week_0_quiz_2</th>\n",
              "      <th>week_0_quiz_3</th>\n",
              "      <th>week_0_quiz_4</th>\n",
              "      <th>week_0_quiz_5</th>\n",
              "      <th>week_1_quiz_1</th>\n",
              "      <th>total</th>\n",
              "      <th>coach</th>\n",
              "      <th>id</th>\n",
              "    </tr>\n",
              "  </thead>\n",
              "  <tbody>\n",
              "    <tr>\n",
              "      <th>127</th>\n",
              "      <td>Amaan  Ali</td>\n",
              "      <td>4</td>\n",
              "      <td>5.5</td>\n",
              "      <td>5</td>\n",
              "      <td>7</td>\n",
              "      <td>7</td>\n",
              "      <td>8.64</td>\n",
              "      <td>7</td>\n",
              "      <td>44.14</td>\n",
              "      <td>Pascal Wiltschko</td>\n",
              "      <td>AB_G13</td>\n",
              "    </tr>\n",
              "    <tr>\n",
              "      <th>128</th>\n",
              "      <td>Alekhya</td>\n",
              "      <td>10</td>\n",
              "      <td>10</td>\n",
              "      <td>10</td>\n",
              "      <td>10</td>\n",
              "      <td>9</td>\n",
              "      <td>-</td>\n",
              "      <td>-</td>\n",
              "      <td>49</td>\n",
              "      <td>Pascal Wiltschko</td>\n",
              "      <td>AB_G13</td>\n",
              "    </tr>\n",
              "    <tr>\n",
              "      <th>129</th>\n",
              "      <td>Amim  Fatmi</td>\n",
              "      <td>-</td>\n",
              "      <td>-</td>\n",
              "      <td>-</td>\n",
              "      <td>-</td>\n",
              "      <td>-</td>\n",
              "      <td>-</td>\n",
              "      <td>-</td>\n",
              "      <td>-</td>\n",
              "      <td>Pascal Wiltschko</td>\n",
              "      <td>AB_G13</td>\n",
              "    </tr>\n",
              "    <tr>\n",
              "      <th>130</th>\n",
              "      <td>Chen  Qiusong</td>\n",
              "      <td>-</td>\n",
              "      <td>-</td>\n",
              "      <td>-</td>\n",
              "      <td>-</td>\n",
              "      <td>-</td>\n",
              "      <td>-</td>\n",
              "      <td>-</td>\n",
              "      <td>-</td>\n",
              "      <td>Pascal Wiltschko</td>\n",
              "      <td>AB_G13</td>\n",
              "    </tr>\n",
              "    <tr>\n",
              "      <th>131</th>\n",
              "      <td>Chin  Khee  Hung</td>\n",
              "      <td>-</td>\n",
              "      <td>-</td>\n",
              "      <td>-</td>\n",
              "      <td>-</td>\n",
              "      <td>-</td>\n",
              "      <td>-</td>\n",
              "      <td>-</td>\n",
              "      <td>-</td>\n",
              "      <td>Pascal Wiltschko</td>\n",
              "      <td>AB_G13</td>\n",
              "    </tr>\n",
              "  </tbody>\n",
              "</table>\n",
              "</div>"
            ],
            "text/plain": [
              "                 name week_0_quiz_0  ...             coach      id\n",
              "127        Amaan  Ali             4  ...  Pascal Wiltschko  AB_G13\n",
              "128           Alekhya            10  ...  Pascal Wiltschko  AB_G13\n",
              "129       Amim  Fatmi             -  ...  Pascal Wiltschko  AB_G13\n",
              "130     Chen  Qiusong             -  ...  Pascal Wiltschko  AB_G13\n",
              "131  Chin  Khee  Hung             -  ...  Pascal Wiltschko  AB_G13\n",
              "\n",
              "[5 rows x 11 columns]"
            ]
          },
          "metadata": {
            "tags": []
          },
          "execution_count": 44
        }
      ]
    },
    {
      "cell_type": "markdown",
      "metadata": {
        "id": "42J3WM1naaXt"
      },
      "source": [
        "Also, we realize that missing values were entered as \"-\" characters. This is also the reason why all dtypes were imported as \"object\". Replacing them with numpy's NaN solves this and we now have more appropriate dtypes."
      ]
    },
    {
      "cell_type": "code",
      "metadata": {
        "id": "sF0uJOGBXPE3"
      },
      "source": [
        "# replace \"-\" by NAN\n",
        "df = df.replace(\"-\", np.nan)"
      ],
      "execution_count": null,
      "outputs": []
    },
    {
      "cell_type": "code",
      "metadata": {
        "id": "5RdZ6ozqa_kI",
        "colab": {
          "base_uri": "https://localhost:8080/",
          "height": 323
        },
        "outputId": "9337d955-4bfa-448d-dad0-576fd73e271d"
      },
      "source": [
        "df.info()"
      ],
      "execution_count": null,
      "outputs": [
        {
          "output_type": "stream",
          "text": [
            "<class 'pandas.core.frame.DataFrame'>\n",
            "Int64Index: 32 entries, 127 to 158\n",
            "Data columns (total 11 columns):\n",
            " #   Column         Non-Null Count  Dtype  \n",
            "---  ------         --------------  -----  \n",
            " 0   name           32 non-null     object \n",
            " 1   week_0_quiz_0  14 non-null     float64\n",
            " 2   week_0_quiz_1  12 non-null     float64\n",
            " 3   week_0_quiz_2  10 non-null     float64\n",
            " 4   week_0_quiz_3  9 non-null      float64\n",
            " 5   week_0_quiz_4  8 non-null      float64\n",
            " 6   week_0_quiz_5  7 non-null      float64\n",
            " 7   week_1_quiz_1  3 non-null      float64\n",
            " 8   total          14 non-null     float64\n",
            " 9   coach          32 non-null     object \n",
            " 10  id             32 non-null     object \n",
            "dtypes: float64(8), object(3)\n",
            "memory usage: 3.0+ KB\n"
          ],
          "name": "stdout"
        }
      ]
    },
    {
      "cell_type": "markdown",
      "metadata": {
        "id": "dEPtngvWbDD3"
      },
      "source": [
        "Let's look at the a table of the leader board before plotting it! We first filter for positive scores and the required columns and then sort by the total score. To make the index start from zero we reset it."
      ]
    },
    {
      "cell_type": "code",
      "metadata": {
        "id": "3WLXX-tJXQkX",
        "colab": {
          "base_uri": "https://localhost:8080/",
          "height": 272
        },
        "outputId": "3e709906-8268-4ca7-cf45-20dc012ab6c8"
      },
      "source": [
        "# get leader list\n",
        "leaderboard_list = (df.loc[df[\"total\"] > 0, [\"name\", \"total\"]]\n",
        "                    .sort_values(\"total\", ascending=False)\n",
        "                    .reset_index(drop=True))\n",
        "print(leaderboard_list)"
      ],
      "execution_count": null,
      "outputs": [
        {
          "output_type": "stream",
          "text": [
            "                   name  total\n",
            "0                 Rajas  63.23\n",
            "1          JAYASURYA  M  58.55\n",
            "2        Imanina  Zaaim  58.14\n",
            "3      Prince  Varshney  55.18\n",
            "4               Alekhya  49.00\n",
            "5      Teoh  Lynn  Jing  48.32\n",
            "6            Amaan  Ali  44.14\n",
            "7                  Noel  40.91\n",
            "8         Nikhil  Ranga  35.50\n",
            "9                Violet  25.00\n",
            "10    Eghosa  Uwoghiren  16.50\n",
            "11            Oluwaseyi  16.50\n",
            "12    Praful  Dhanavade   8.00\n",
            "13  Sudha  Vaishnavi  T   5.00\n"
          ],
          "name": "stdout"
        }
      ]
    },
    {
      "cell_type": "markdown",
      "metadata": {
        "id": "JOMCxNf_ba_X"
      },
      "source": [
        "Now, it is almost time to create the plots. Looking at the seaborn documentation on how to create a heatmap, we realize that a specific layout is required. It involves the names on the y-axis as index and names on the x-axis as columns. The values we want to use in the heatmap are the only ones we should keep in the data frame.\n",
        "\n",
        "Below, we again filter for positive scores, sort by the total score, drop columns we do not need and eventually, we replace the index by the name column."
      ]
    },
    {
      "cell_type": "code",
      "metadata": {
        "id": "T3U2VgP1X1Rc"
      },
      "source": [
        "# heatmap df\n",
        "df_heatmap = (df[df[\"total\"] > 0]\n",
        "              .sort_values(\"total\", ascending=False)\n",
        "              .drop([\"total\", \"coach\", \"id\"], axis=1)\n",
        "              .set_index(\"name\"))"
      ],
      "execution_count": null,
      "outputs": []
    },
    {
      "cell_type": "code",
      "metadata": {
        "id": "Pp3XiJEte_WA",
        "colab": {
          "base_uri": "https://localhost:8080/",
          "height": 235
        },
        "outputId": "31e668b8-af5e-48cf-af4a-3506fd54a118"
      },
      "source": [
        "df_heatmap.head()"
      ],
      "execution_count": null,
      "outputs": [
        {
          "output_type": "execute_result",
          "data": {
            "text/html": [
              "<div>\n",
              "<style scoped>\n",
              "    .dataframe tbody tr th:only-of-type {\n",
              "        vertical-align: middle;\n",
              "    }\n",
              "\n",
              "    .dataframe tbody tr th {\n",
              "        vertical-align: top;\n",
              "    }\n",
              "\n",
              "    .dataframe thead th {\n",
              "        text-align: right;\n",
              "    }\n",
              "</style>\n",
              "<table border=\"1\" class=\"dataframe\">\n",
              "  <thead>\n",
              "    <tr style=\"text-align: right;\">\n",
              "      <th></th>\n",
              "      <th>week_0_quiz_0</th>\n",
              "      <th>week_0_quiz_1</th>\n",
              "      <th>week_0_quiz_2</th>\n",
              "      <th>week_0_quiz_3</th>\n",
              "      <th>week_0_quiz_4</th>\n",
              "      <th>week_0_quiz_5</th>\n",
              "      <th>week_1_quiz_1</th>\n",
              "    </tr>\n",
              "    <tr>\n",
              "      <th>name</th>\n",
              "      <th></th>\n",
              "      <th></th>\n",
              "      <th></th>\n",
              "      <th></th>\n",
              "      <th></th>\n",
              "      <th></th>\n",
              "      <th></th>\n",
              "    </tr>\n",
              "  </thead>\n",
              "  <tbody>\n",
              "    <tr>\n",
              "      <th>Rajas</th>\n",
              "      <td>10.0</td>\n",
              "      <td>10.0</td>\n",
              "      <td>9.0</td>\n",
              "      <td>9.0</td>\n",
              "      <td>9.0</td>\n",
              "      <td>7.73</td>\n",
              "      <td>8.5</td>\n",
              "    </tr>\n",
              "    <tr>\n",
              "      <th>JAYASURYA  M</th>\n",
              "      <td>10.0</td>\n",
              "      <td>9.0</td>\n",
              "      <td>10.0</td>\n",
              "      <td>10.0</td>\n",
              "      <td>10.0</td>\n",
              "      <td>9.55</td>\n",
              "      <td>NaN</td>\n",
              "    </tr>\n",
              "    <tr>\n",
              "      <th>Imanina  Zaaim</th>\n",
              "      <td>10.0</td>\n",
              "      <td>9.5</td>\n",
              "      <td>10.0</td>\n",
              "      <td>10.0</td>\n",
              "      <td>10.0</td>\n",
              "      <td>8.64</td>\n",
              "      <td>NaN</td>\n",
              "    </tr>\n",
              "    <tr>\n",
              "      <th>Prince  Varshney</th>\n",
              "      <td>9.0</td>\n",
              "      <td>9.0</td>\n",
              "      <td>10.0</td>\n",
              "      <td>10.0</td>\n",
              "      <td>9.0</td>\n",
              "      <td>8.18</td>\n",
              "      <td>NaN</td>\n",
              "    </tr>\n",
              "    <tr>\n",
              "      <th>Alekhya</th>\n",
              "      <td>10.0</td>\n",
              "      <td>10.0</td>\n",
              "      <td>10.0</td>\n",
              "      <td>10.0</td>\n",
              "      <td>9.0</td>\n",
              "      <td>NaN</td>\n",
              "      <td>NaN</td>\n",
              "    </tr>\n",
              "  </tbody>\n",
              "</table>\n",
              "</div>"
            ],
            "text/plain": [
              "                  week_0_quiz_0  week_0_quiz_1  ...  week_0_quiz_5  week_1_quiz_1\n",
              "name                                            ...                              \n",
              "Rajas                      10.0           10.0  ...           7.73            8.5\n",
              "JAYASURYA  M               10.0            9.0  ...           9.55            NaN\n",
              "Imanina  Zaaim             10.0            9.5  ...           8.64            NaN\n",
              "Prince  Varshney            9.0            9.0  ...           8.18            NaN\n",
              "Alekhya                    10.0           10.0  ...            NaN            NaN\n",
              "\n",
              "[5 rows x 7 columns]"
            ]
          },
          "metadata": {
            "tags": []
          },
          "execution_count": 49
        }
      ]
    },
    {
      "cell_type": "markdown",
      "metadata": {
        "id": "Zz0hbStlYVRx"
      },
      "source": [
        "---\n",
        "## Visualization \n",
        "---"
      ]
    },
    {
      "cell_type": "markdown",
      "metadata": {
        "id": "Ag5XZQuocDf_"
      },
      "source": [
        "Now, we initialize both figure and axis objects we use to make the plot. We want a subplot with one row and two columns and a certain size so that everything is clearly visible.\n",
        "\n",
        "If this way of specifying a matplotlib plot is unfamiliar to you, please check out: https://matplotlib.org/3.2.1/tutorials/introductory/lifecycle.html."
      ]
    },
    {
      "cell_type": "markdown",
      "metadata": {
        "id": "b0RKv1orcxTL"
      },
      "source": [
        "For the heatmap, we select the colormap to be \"BuGn\" and specify that NaN values should get the color \"lightgray\". Then we set up the plot using sns.heatmap() using the df we created earlier and select that the numbers should also be included in the rectangles by setting annot=True.\n",
        "\n",
        "Also remember that if we use the object oriented API of matplotlib, we have to use the \"ax\" object to make changes to the plot. In the seaborn call, we also have to select on which of the two axes of the subplot we want to draw the graph. In our case, the left one is ax[0] and the right one is ax[1]. We then rotate the ticks to make them more readable and set a title."
      ]
    },
    {
      "cell_type": "markdown",
      "metadata": {
        "id": "jt2xu5wQeEzR"
      },
      "source": [
        "Finally, we also create the barchart that displays the total counts. We add annotations containing the total scores next to the bars by iterating over the ax object. If this looks complicated to you, remember that you can just copy it for your own plots for now and come back to it once you have explored the library more. To avoid labels that are cut-off, we increase the limits on the x-axis."
      ]
    },
    {
      "cell_type": "code",
      "metadata": {
        "id": "07mXRoFqX-Pp",
        "colab": {
          "base_uri": "https://localhost:8080/",
          "height": 441
        },
        "outputId": "d329e77c-053c-46c0-ad7d-390d1edec65c"
      },
      "source": [
        "# initialize plot\n",
        "fig, ax = plt.subplots(1, 2, figsize=(16, 6))\n",
        "# heatmap\n",
        "plt.cm.get_cmap(name=\"BuGn\").set_bad(\"lightgray\")\n",
        "heatmap = sns.heatmap(df_heatmap, cmap=\"BuGn\", annot=True, linewidths=.5, ax=ax[0])\n",
        "heatmap.set_xticklabels(heatmap.get_xticklabels(), rotation=45)\n",
        "ax[0].set_title(\"Score per Quiz\")\n",
        "# bar chart\n",
        "sns.barplot(x=\"total\", y=\"name\", data=leaderboard_list, ax=ax[1])\n",
        "ax[1].set_xlim(0, 70)\n",
        "ax[1].set_title(\"Total Score\")\n",
        "for p in ax[1].patches:\n",
        "    ax[1].annotate(\"{0:.2f}\".format(p.get_width()),\n",
        "                   xy=(p.get_width(), p.get_y() + p.get_height() / 2),\n",
        "                   xytext=(5, 0),\n",
        "                   textcoords='offset points',\n",
        "                   ha=\"left\",\n",
        "                   va=\"center\")\n",
        "plt.show()"
      ],
      "execution_count": null,
      "outputs": [
        {
          "output_type": "display_data",
          "data": {
            "image/png": "[encoded data removed]",
            "text/plain": [
              "<Figure size 1152x432 with 3 Axes>"
            ]
          },
          "metadata": {
            "tags": [],
            "needs_background": "light"
          }
        }
      ]
    },
    {
      "cell_type": "markdown",
      "metadata": {
        "id": "gr65lbPvgzy4"
      },
      "source": [
        "Please send me a message on Slack if there are any questions and happy coding! :-)"
      ]
    }
  ]
}